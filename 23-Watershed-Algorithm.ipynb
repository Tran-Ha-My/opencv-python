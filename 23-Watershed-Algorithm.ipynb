{
 "cells": [
  {
   "cell_type": "markdown",
   "id": "161d0e1c-4b21-4bec-aad7-e13c847a6615",
   "metadata": {},
   "source": [
    "# Image Segmentation with Watershed Algorithm"
   ]
  },
  {
   "cell_type": "markdown",
   "id": "0d6f1ce2-49b6-4c18-8469-7ad76cac73ac",
   "metadata": {},
   "source": [
    "-> [OPEN CV DOCUMENT](https://docs.opencv.org/4.x/d3/db4/tutorial_py_watershed.html)"
   ]
  },
  {
   "cell_type": "markdown",
   "id": "0dc1661b-b5d3-4ee1-845f-8e22ccf9c477",
   "metadata": {},
   "source": [
    "![](https://www.researchgate.net/profile/Ahmad-El-Allaoui/publication/266419041/figure/fig1/AS:295785867563008@1447532254052/Modelling-of-contours-by-watershed-transform_Q320.jpg)"
   ]
  },
  {
   "cell_type": "markdown",
   "id": "97f135bf-25b2-49a1-9a87-9a34426f9ffd",
   "metadata": {},
   "source": [
    "![](https://www.researchgate.net/profile/Benson-C-C/publication/278029613/figure/fig1/AS:613941185114119@1523386393412/Modelling-of-watershed-algorithm-The-generic-problem-behind-the-watershed-algorithm-is.png)"
   ]
  },
  {
   "cell_type": "markdown",
   "id": "8687f0a8-2533-4eaa-933c-524fe6791431",
   "metadata": {},
   "source": [
    "## What is a Watershed?"
   ]
  },
  {
   "cell_type": "markdown",
   "id": "c16e68d9-59a5-4c4a-af48-fbdee1db6f4c",
   "metadata": {},
   "source": [
    "Concerning the context of Image Processing:\n",
    "\n",
    "* Treates image it operates upon like a topographic map :\n",
    "    * The brightness of each point == height\n",
    "    * Finds the lines that run along the tops of ridges\n",
    "    \n",
    "    \n",
    "    => from water to brightness accross images !"
   ]
  },
  {
   "cell_type": "code",
   "execution_count": null,
   "id": "f4e6812d-652a-4409-b91a-7991a4683d77",
   "metadata": {},
   "outputs": [],
   "source": []
  }
 ],
 "metadata": {
  "kernelspec": {
   "display_name": "Python 3 (ipykernel)",
   "language": "python",
   "name": "python3"
  },
  "language_info": {
   "codemirror_mode": {
    "name": "ipython",
    "version": 3
   },
   "file_extension": ".py",
   "mimetype": "text/x-python",
   "name": "python",
   "nbconvert_exporter": "python",
   "pygments_lexer": "ipython3",
   "version": "3.9.7"
  }
 },
 "nbformat": 4,
 "nbformat_minor": 5
}
