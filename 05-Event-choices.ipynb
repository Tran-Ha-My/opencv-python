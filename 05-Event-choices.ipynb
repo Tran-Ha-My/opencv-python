{
 "cells": [
  {
   "cell_type": "code",
   "execution_count": 1,
   "id": "4eabfd9f-f428-4304-a5d0-d1e9b27f189c",
   "metadata": {},
   "outputs": [
    {
     "ename": "KeyboardInterrupt",
     "evalue": "",
     "output_type": "error",
     "traceback": [
      "\u001b[0;31m---------------------------------------------------------------------------\u001b[0m",
      "\u001b[0;31mKeyboardInterrupt\u001b[0m                         Traceback (most recent call last)",
      "\u001b[0;32m/var/folders/hq/ffzxkkks0x37tjp7z44qw0880000gn/T/ipykernel_39574/2387411302.py\u001b[0m in \u001b[0;36m<module>\u001b[0;34m\u001b[0m\n\u001b[1;32m     28\u001b[0m     \u001b[0mcv2\u001b[0m\u001b[0;34m.\u001b[0m\u001b[0mimshow\u001b[0m\u001b[0;34m(\u001b[0m\u001b[0;34m'My_Drawing'\u001b[0m\u001b[0;34m,\u001b[0m \u001b[0mimg\u001b[0m\u001b[0;34m)\u001b[0m\u001b[0;34m\u001b[0m\u001b[0;34m\u001b[0m\u001b[0m\n\u001b[1;32m     29\u001b[0m \u001b[0;34m\u001b[0m\u001b[0m\n\u001b[0;32m---> 30\u001b[0;31m     \u001b[0;32mif\u001b[0m \u001b[0mcv2\u001b[0m\u001b[0;34m.\u001b[0m\u001b[0mwaitKey\u001b[0m\u001b[0;34m(\u001b[0m\u001b[0;36m20\u001b[0m\u001b[0;34m)\u001b[0m \u001b[0;34m&\u001b[0m \u001b[0;36m0xFF\u001b[0m\u001b[0;34m==\u001b[0m\u001b[0;36m27\u001b[0m\u001b[0;34m:\u001b[0m\u001b[0;34m\u001b[0m\u001b[0;34m\u001b[0m\u001b[0m\n\u001b[0m\u001b[1;32m     31\u001b[0m         \u001b[0;32mbreak\u001b[0m\u001b[0;34m\u001b[0m\u001b[0;34m\u001b[0m\u001b[0m\n\u001b[1;32m     32\u001b[0m \u001b[0;34m\u001b[0m\u001b[0m\n",
      "\u001b[0;31mKeyboardInterrupt\u001b[0m: "
     ]
    }
   ],
   "source": [
    "# DIRECTLY DRAW ON IMAGES WITH A MOUSE\n",
    "    #Connect a function to a file\n",
    "import cv2 \n",
    "import numpy as np\n",
    "\n",
    "############\n",
    "##FUNCTION##\n",
    "############################################################################################\n",
    "\n",
    "def draw_circle(event, x,y, flags, param):  #params: mouseEvent, mouseX, mouseY (built-in), pass flag and params back\n",
    "    if event == cv2.EVENT_LBUTTONDOWN:  # Only consider the fact that left button is press DOWN, not release\n",
    "        cv2.circle(img, (x,y), 100, (0,255,0), -1)\n",
    "        \n",
    "    elif event == cv2.EVENT_RBUTTONDOWN:\n",
    "        cv2.circle(img, (x,y), 100, (255,0,0), -1)   \n",
    "\n",
    "cv2.namedWindow(winname='My_Drawing')  #creates a window as placeholder of images\n",
    "\n",
    "cv2.setMouseCallback('My_Drawing', draw_circle)   #params: winname, function to execute. The winname is like an id bc notice that the code below also has that name => they are linked\n",
    "\n",
    "################ Showing a blank image###########################################################\n",
    "\n",
    "#if you remove np.int8 the bg will turn pure black\n",
    "img = np.zeros( (512,512,3), np.int8)  \n",
    "               \n",
    "while True:\n",
    "               \n",
    "    cv2.imshow('My_Drawing', img)\n",
    "               \n",
    "    if cv2.waitKey(20) & 0xFF==27:\n",
    "        break\n",
    "        \n",
    "cv2.destroyAllWindows()\n"
   ]
  },
  {
   "cell_type": "code",
   "execution_count": null,
   "id": "1132588a-a009-458d-8f88-07ccbf58e486",
   "metadata": {},
   "outputs": [],
   "source": []
  }
 ],
 "metadata": {
  "kernelspec": {
   "display_name": "Python 3 (ipykernel)",
   "language": "python",
   "name": "python3"
  },
  "language_info": {
   "codemirror_mode": {
    "name": "ipython",
    "version": 3
   },
   "file_extension": ".py",
   "mimetype": "text/x-python",
   "name": "python",
   "nbconvert_exporter": "python",
   "pygments_lexer": "ipython3",
   "version": "3.9.7"
  }
 },
 "nbformat": 4,
 "nbformat_minor": 5
}
